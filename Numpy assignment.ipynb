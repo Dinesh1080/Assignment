{
 "cells": [
  {
   "cell_type": "markdown",
   "metadata": {},
   "source": [
    "# Write a function so that the columns of the output matrix are powers of the input vector.\n",
    "The order of the powers is determined by the increasing boolean argument. Specifically, when increasing is False, the i-th output column is the input vector raised element-wise to the power of N - i - 1.\n",
    "HINT: Such a matrix with a geometric progression in each row is named for Alexandre-Theophile Vandermonde."
   ]
  },
  {
   "cell_type": "code",
   "execution_count": 3,
   "metadata": {},
   "outputs": [],
   "source": [
    "import numpy as np\n",
    "\n",
    "def vander(vec,n,increasing=False):\n",
    "    if increasing:\n",
    "        van = np.matrix([x**i for x in vec for i in range(n)]).reshape(n,n)\n",
    "    else:\n",
    "        van = np.matrix([x**(n-i-1) for x in vec for i in range(n)]).reshape(n,n)\n",
    "    return van "
   ]
  },
  {
   "cell_type": "code",
   "execution_count": 4,
   "metadata": {},
   "outputs": [
    {
     "name": "stdout",
     "output_type": "stream",
     "text": [
      "[[   1    1    1    1    1    1]\n",
      " [   1    2    4    8   16   32]\n",
      " [   1    3    9   27   81  243]\n",
      " [   1    4   16   64  256 1024]\n",
      " [   1    5   25  125  625 3125]\n",
      " [   1    6   36  216 1296 7776]]\n"
     ]
    }
   ],
   "source": [
    "vec = np.array([1,2,3,4,5,6])\n",
    "n=6\n",
    "mat = vander(vec,n,True)\n",
    "print(mat)"
   ]
  },
  {
   "cell_type": "code",
   "execution_count": 5,
   "metadata": {},
   "outputs": [
    {
     "name": "stdout",
     "output_type": "stream",
     "text": [
      "[[   1    1    1    1    1    1]\n",
      " [  32   16    8    4    2    1]\n",
      " [ 243   81   27    9    3    1]\n",
      " [1024  256   64   16    4    1]\n",
      " [3125  625  125   25    5    1]\n",
      " [7776 1296  216   36    6    1]]\n"
     ]
    }
   ],
   "source": [
    "vec = np.array([1,2,3,4,5,6])\n",
    "n=6\n",
    "mat = vander(vec,n,False)\n",
    "print(mat)"
   ]
  },
  {
   "cell_type": "markdown",
   "metadata": {},
   "source": [
    "# Write a function to find moving average in an array over a window:\n",
    "Test it over [3, 5, 7, 2, 8, 10, 11, 65, 72, 81, 99, 100, 150] and window of 3."
   ]
  },
  {
   "cell_type": "code",
   "execution_count": 6,
   "metadata": {},
   "outputs": [],
   "source": [
    "def MovingAvg(ls,windowSize):\n",
    "    z=0\n",
    "    m=0\n",
    "    n=windowSize\n",
    "    for i in range(len(ls)-windowSize+1):\n",
    "        s = [z+i for i in ls[m:n]]\n",
    "        avg = sum(s)/windowSize\n",
    "        m +=1\n",
    "        n +=1\n",
    "        print(\"y{} = {}\".format(i+1,avg))"
   ]
  },
  {
   "cell_type": "code",
   "execution_count": 7,
   "metadata": {},
   "outputs": [
    {
     "name": "stdout",
     "output_type": "stream",
     "text": [
      "y1 = 5.0\n",
      "y2 = 4.666666666666667\n",
      "y3 = 5.666666666666667\n",
      "y4 = 6.666666666666667\n",
      "y5 = 9.666666666666666\n",
      "y6 = 28.666666666666668\n",
      "y7 = 49.333333333333336\n",
      "y8 = 72.66666666666667\n",
      "y9 = 84.0\n",
      "y10 = 93.33333333333333\n",
      "y11 = 116.33333333333333\n"
     ]
    }
   ],
   "source": [
    "#ls = [10,20,30,40,50,60,70,80,90,100]\n",
    "#k=4\n",
    "\n",
    "ls =  [3, 5, 7, 2, 8, 10, 11, 65, 72, 81, 99, 100, 150]\n",
    "k = 3\n",
    "\n",
    "MovingAvg(ls,k)"
   ]
  },
  {
   "cell_type": "code",
   "execution_count": null,
   "metadata": {},
   "outputs": [],
   "source": []
  }
 ],
 "metadata": {
  "kernelspec": {
   "display_name": "Python 3",
   "language": "python",
   "name": "python3"
  },
  "language_info": {
   "codemirror_mode": {
    "name": "ipython",
    "version": 3
   },
   "file_extension": ".py",
   "mimetype": "text/x-python",
   "name": "python",
   "nbconvert_exporter": "python",
   "pygments_lexer": "ipython3",
   "version": "3.8.3"
  }
 },
 "nbformat": 4,
 "nbformat_minor": 4
}
