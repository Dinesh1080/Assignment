{
 "cells": [
  {
   "cell_type": "markdown",
   "metadata": {},
   "source": [
    "# Question 1.1"
   ]
  },
  {
   "cell_type": "code",
   "execution_count": 31,
   "metadata": {},
   "outputs": [],
   "source": [
    "class Triangle:\n",
    "    def __init__(self):\n",
    "        self.a = float(input(\"Enter a: \"))\n",
    "        self.b = float(input(\"Enter b: \"))\n",
    "        self.c = float(input(\"Enter c: \"))\n",
    "class Area(Triangle):\n",
    "    def area(self):\n",
    "        s =  (self.a+self.b+self.c)/2\n",
    "        area = (s*(s-self.a)*(s-self.b)*(s-self.c))**0.5\n",
    "        return area"
   ]
  },
  {
   "cell_type": "code",
   "execution_count": 33,
   "metadata": {},
   "outputs": [
    {
     "name": "stdout",
     "output_type": "stream",
     "text": [
      "Enter a: 3\n",
      "Enter b: 5\n",
      "Enter c: 4\n",
      "Area: 6.0\n"
     ]
    }
   ],
   "source": [
    "obj = Area()\n",
    "area = obj.area()\n",
    "print(\"Area: {}\".format(area))"
   ]
  },
  {
   "cell_type": "markdown",
   "metadata": {},
   "source": [
    "# Question 1.2\n"
   ]
  },
  {
   "cell_type": "code",
   "execution_count": 45,
   "metadata": {},
   "outputs": [],
   "source": [
    "def filter_long_words(lsOfWords,n):\n",
    "    result = list()\n",
    "    for i in lsOfWords:\n",
    "        if(len(i)<=n):\n",
    "            result.append(i)\n",
    "    return result"
   ]
  },
  {
   "cell_type": "code",
   "execution_count": 55,
   "metadata": {},
   "outputs": [
    {
     "name": "stdout",
     "output_type": "stream",
     "text": [
      "['hello', 'world', 'name', 'Please', 'split', 'this', 'string', 'words']\n"
     ]
    }
   ],
   "source": [
    "lst = [\"hello\", \"world\", \"name\",'Please', 'split', 'this', 'string',\"words\", \"computer science\", \"data science\"]\n",
    "print(filter_long_words(lst, 6))"
   ]
  },
  {
   "cell_type": "markdown",
   "metadata": {},
   "source": [
    "# Question 2.1"
   ]
  },
  {
   "cell_type": "code",
   "execution_count": 67,
   "metadata": {},
   "outputs": [],
   "source": [
    "def mapList(lst):\n",
    "    res = list()\n",
    "    for i in lst:\n",
    "        res.append(len(i))\n",
    "    return res"
   ]
  },
  {
   "cell_type": "code",
   "execution_count": 68,
   "metadata": {},
   "outputs": [
    {
     "name": "stdout",
     "output_type": "stream",
     "text": [
      "[5, 5, 4, 6, 5, 4, 6, 5, 16, 12]\n"
     ]
    }
   ],
   "source": [
    "lst = [\"hello\", \"world\", \"name\",'Please', 'split', 'this', 'string',\"words\", \"computer science\", \"data science\"]\n",
    "ls = mapList(lst)\n",
    "print(ls)"
   ]
  },
  {
   "cell_type": "markdown",
   "metadata": {},
   "source": [
    "# Question 2.2"
   ]
  },
  {
   "cell_type": "code",
   "execution_count": 74,
   "metadata": {},
   "outputs": [],
   "source": [
    "def fun(char):\n",
    "    if(len(char)==1):\n",
    "        ls = ('a','e','i','o','u')\n",
    "        return False if char not in ls else True \n",
    "    else:\n",
    "        print(\"invalid input\")"
   ]
  },
  {
   "cell_type": "code",
   "execution_count": 78,
   "metadata": {},
   "outputs": [
    {
     "name": "stdout",
     "output_type": "stream",
     "text": [
      "False\n",
      "True\n"
     ]
    }
   ],
   "source": [
    "print(fun('m'))\n",
    "print(fun('i'))"
   ]
  },
  {
   "cell_type": "code",
   "execution_count": null,
   "metadata": {},
   "outputs": [],
   "source": []
  }
 ],
 "metadata": {
  "kernelspec": {
   "display_name": "Python 3",
   "language": "python",
   "name": "python3"
  },
  "language_info": {
   "codemirror_mode": {
    "name": "ipython",
    "version": 3
   },
   "file_extension": ".py",
   "mimetype": "text/x-python",
   "name": "python",
   "nbconvert_exporter": "python",
   "pygments_lexer": "ipython3",
   "version": "3.8.3"
  }
 },
 "nbformat": 4,
 "nbformat_minor": 4
}
